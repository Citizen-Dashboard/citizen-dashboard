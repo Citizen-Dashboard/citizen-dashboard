{
 "cells": [
  {
   "cell_type": "markdown",
   "metadata": {},
   "source": [
    "Imports"
   ]
  },
  {
   "cell_type": "code",
   "execution_count": 1,
   "metadata": {},
   "outputs": [
    {
     "name": "stderr",
     "output_type": "stream",
     "text": [
      "/home/yeralash/anaconda3/envs/meeting_miner_39/lib/python3.9/site-packages/tqdm/auto.py:21: TqdmWarning: IProgress not found. Please update jupyter and ipywidgets. See https://ipywidgets.readthedocs.io/en/stable/user_install.html\n",
      "  from .autonotebook import tqdm as notebook_tqdm\n"
     ]
    }
   ],
   "source": [
    "import torch\n",
    "from transformers import pipeline, AutoTokenizer, AutoModelForSeq2SeqLM\n",
    "from bs4 import BeautifulSoup\n",
    "import requests"
   ]
  },
  {
   "cell_type": "markdown",
   "metadata": {},
   "source": [
    "Check if GPU available"
   ]
  },
  {
   "cell_type": "code",
   "execution_count": 2,
   "metadata": {},
   "outputs": [],
   "source": [
    "device = 0 if torch.cuda.is_available() else -1"
   ]
  },
  {
   "cell_type": "markdown",
   "metadata": {},
   "source": [
    "Fetch the webpage content"
   ]
  },
  {
   "cell_type": "code",
   "execution_count": 3,
   "metadata": {},
   "outputs": [
    {
     "name": "stdout",
     "output_type": "stream",
     "text": [
      "\n",
      "\n",
      "\n",
      "\n",
      "\n",
      "\n",
      "\n",
      "\n",
      "\n",
      "\n",
      "\n",
      "\n",
      "Agenda Item History - 2024.EC14.4\n",
      "\n",
      "\n",
      "\n",
      "\n",
      "\n",
      "\n",
      "\n",
      "\n",
      "\n",
      "\n",
      "\n",
      "\n",
      "\n",
      "\n",
      "\n",
      "\n",
      "\n",
      "\n",
      "\n",
      "\n",
      "\n",
      "\n",
      "\n",
      "\n",
      "\n",
      "\n",
      "\n",
      "\n",
      "\n",
      "\n",
      "\n",
      "\n",
      "\n",
      "\n",
      "\n",
      " \n",
      "\n",
      "\n",
      "\n",
      "\n",
      "\n",
      "\n",
      "\n",
      "\n",
      "\n",
      "\n",
      "\n",
      "\n",
      "\n",
      "\n",
      "Item - 2024.EC14.4\n",
      "\n",
      "\n",
      "\n",
      "\n",
      "Share\n",
      "\n",
      "\n",
      "Share to Facebook\n",
      "Share to Twitter\n",
      "Share to LinkedIn\n",
      "\n",
      "\n",
      "\n",
      "\n",
      "\t\t\t\tPrint \n",
      "\n",
      " \n",
      "\n",
      "\n",
      "\n",
      "\n",
      "\n",
      "\n",
      "\n",
      " Close\n",
      "\t\t\t\t\t\t\n",
      "\n",
      " E-mail Item\n",
      "\n",
      "\n",
      " Submit Comments\n",
      "\n",
      "\n",
      "\n",
      "\n",
      "Tracking Status\n",
      "\n",
      "\n",
      "This item was considered by the Economic and Community Development Committee  on July 4, 2024 and adopted without amendment.  It will be considered by City Council on July 24, 2024.\n",
      "\n",
      "\n",
      "\n",
      "\n",
      "\n",
      "\t\t\t\t\t\t\tExpand All 2024.EC14.4 \n",
      "\n",
      "\n",
      "\t\t\t\t\t\t\tCollapse All 2024.EC14.4\n",
      "\n",
      "\n",
      "\n",
      "\n",
      "\n",
      "\n",
      "\n",
      "\n",
      "\t\t\t\t\t\t\t\t\t\tEconomic and Community Development Committee  consideration on\n",
      "\t\t\t\t\t\t\t\t\t\tJuly 4, 2024\n",
      "\n",
      "\n",
      "\n",
      "\n",
      "\n",
      "\n",
      "\n",
      "EC14.4 - Application to the Imagination, Manufacturing, Innovation and Technology Property Tax Incentive Program\n",
      "\n",
      "\n",
      "\n",
      "\n",
      "Decision Type: ACTION\n",
      "\n",
      "\n",
      "Status: Adopted\n",
      "\n",
      "\n",
      "Ward: 14 - Toronto - Danforth\n",
      "\n",
      "\n",
      "\n",
      "\n",
      "\n",
      "\n",
      "\n",
      "\n",
      "\n",
      "\n",
      "\n",
      "\n",
      "\n",
      "\n",
      "\n",
      "\n",
      "\n",
      "Committee Recommendations\n",
      "The Economic and Community Development Committee recommends that:\n",
      " \n",
      "1. City Council approve Imagination, Manufacturing, Innovation, and Technology incentives for the following application:\n",
      "\n",
      "29, 35, 41 and 75 Basin Street - BASIN MEDIA STUDIOS GP INCORPORATED, as general partner for and on behalf of BASIN MEDIA STUDIOS LP, City of Toronto Economic Development Corporation in the estimated grant amount of $21.6 million over 10-12 years.\n",
      "\n",
      "2. City Council authorize the General Manager, Economic Development and Culture to negotiate and execute a Financial Incentive Agreement for the application in Recommendation 1 above in a form satisfactory to the City Solicitor.\n",
      "\n",
      "\n",
      "\n",
      "\n",
      "Origin\n",
      "(June 18, 2024) Report from the General Manager, Economic Development and Culture\n",
      "\t\n",
      "\n",
      "Summary\n",
      "This report provides recommendations on an Imagination, Manufacturing, Innovation and Technology Program application for a film studio complex known as Basin Media Studios in the Port Lands, an area in Ward 14 (Toronto – Danforth). The application was submitted by Hackman Capital Partners and CreateTO on May 24, 2023, and is subject to the City-Wide Community Improvement Plan, By-law 1207-2018, which was the bylaw in effect at the time of application. The applicant has also applied for the Brownfield Remediation Tax Assistance incentive.By-law 1207-2018 states that City Council approval is required in cases where an application for Development Grants has an estimated construction value for the development exceeding $150 million. Due to the potential financial implications to the City of approving an Imagination, Manufacturing, Innovation and Technology Program application for a project of this size, the City contracted with Hemson Consulting Limited. to provide a third-party review and detailed analysis of the subject applications (Attachment 2). For the reasons detailed in this report, staff recommends the approval of the application for 29, 35, 41 and 75 Basin Street.\n",
      "In the fourth quarter of 2024, a new City-wide Community Improvement Plan for a Financial Incentive Program consisting of development grants will be brought forward to City Council. Until any new City-Wide Community Improvement Plan by-law is approved and in force, applications received under the existing program will continue to be considered and processed under the applicable in-force by-law at the date of the application’s receipt.\n",
      "This report was prepared by Economic Development and Culture division in consultation with City Planning, Finance and Treasury Services, and Social Development, Finance and Administration.\n",
      "\n",
      "Background Information\n",
      "\n",
      " \n",
      "\t(June 18, 2024)\n",
      "       Report and Attachments 1 and 2 from the General Manager, Economic Development and Culture on Application to the Imagination, Manufacturing, Innovation and Technology Property Tax Incentive Program\n",
      "\t\n",
      "\n",
      "https://www.toronto.ca/legdocs/mmis/2024/ec/bgrd/backgroundfile-246818.pdf\n",
      "\n",
      "  Attachment 3: Hemson - Review of Basin Media Studio’s Application under the IMIT Property Tax Incentive Program\n",
      "\t\n",
      "\n",
      "https://www.toronto.ca/legdocs/mmis/2024/ec/bgrd/backgroundfile-246819.pdf\n",
      "\n",
      "\n",
      "Motions\n",
      "\n",
      "\n",
      "\n",
      "\t\t\t\n",
      "\t\t\t Motion\n",
      "\t\t\t to Adopt Item\n",
      "\t\t\t\n",
      "             moved by\n",
      "            \n",
      "                Councillor Shelley Carroll \n",
      "            \n",
      "            \n",
      "\t\t\t\n",
      "\t\t\t\n",
      "\t\t\t\t(Carried)\n",
      "\n",
      "\n",
      "\n",
      "\n",
      "\n",
      "\n",
      "\n",
      "\n",
      "\n",
      "\n",
      "\n",
      "\n",
      "\n",
      "Source: Toronto City Clerk at www.toronto.ca/council\n",
      "\n",
      "\n",
      "\n",
      "\n",
      "\n",
      "\n",
      "\n",
      "\n",
      "\n",
      "© City of Toronto 1998 - 2024\n",
      "\n",
      "\n",
      "\n",
      "\n",
      "\n",
      "\n"
     ]
    }
   ],
   "source": [
    "url = \"https://secure.toronto.ca/council/agenda-item.do?item=2024.EC14.4\"\n",
    "response = requests.get(url)\n",
    "soup = BeautifulSoup(response.content, 'lxml')\n",
    "text = soup.get_text()\n",
    "print(text)"
   ]
  },
  {
   "cell_type": "markdown",
   "metadata": {},
   "source": [
    "Function to split text into chunks"
   ]
  },
  {
   "cell_type": "code",
   "execution_count": 4,
   "metadata": {},
   "outputs": [],
   "source": [
    "def split_text(text, max_length):\n",
    "    return [text[i:i+max_length] for i in range(0, len(text), max_length)]"
   ]
  },
  {
   "cell_type": "markdown",
   "metadata": {},
   "source": [
    "Use a meeting summarization LLM"
   ]
  },
  {
   "cell_type": "code",
   "execution_count": 5,
   "metadata": {},
   "outputs": [
    {
     "name": "stderr",
     "output_type": "stream",
     "text": [
      "/home/yeralash/anaconda3/envs/meeting_miner_39/lib/python3.9/site-packages/huggingface_hub/file_download.py:1132: FutureWarning: `resume_download` is deprecated and will be removed in version 1.0.0. Downloads always resume when possible. If you want to force a new download, use `force_download=True`.\n",
      "  warnings.warn(\n"
     ]
    }
   ],
   "source": [
    "model_name = \"knkarthick/MEETING_SUMMARY\"\n",
    "tokenizer = AutoTokenizer.from_pretrained(model_name)\n",
    "model = AutoModelForSeq2SeqLM.from_pretrained(model_name)"
   ]
  },
  {
   "cell_type": "markdown",
   "metadata": {},
   "source": [
    "Create a summarization pipeline"
   ]
  },
  {
   "cell_type": "code",
   "execution_count": 6,
   "metadata": {},
   "outputs": [],
   "source": [
    "summarizer = pipeline(\"summarization\", model=model, tokenizer=tokenizer, device=device)"
   ]
  },
  {
   "cell_type": "markdown",
   "metadata": {},
   "source": [
    "Split text into chunks"
   ]
  },
  {
   "cell_type": "code",
   "execution_count": 7,
   "metadata": {},
   "outputs": [],
   "source": [
    "chunks = split_text(text, 4000)"
   ]
  },
  {
   "cell_type": "markdown",
   "metadata": {},
   "source": [
    "Summarize each chunk"
   ]
  },
  {
   "cell_type": "code",
   "execution_count": 8,
   "metadata": {},
   "outputs": [
    {
     "name": "stderr",
     "output_type": "stream",
     "text": [
      "Your max_length is set to 200, but your input_length is only 176. Since this is a summarization task, where outputs shorter than the input are typically wanted, you might consider decreasing max_length manually, e.g. summarizer('...', max_length=88)\n"
     ]
    },
    {
     "name": "stdout",
     "output_type": "stream",
     "text": [
      "On July 4, 2024, the Economic and Community Development Committee adopted an agenda item concerning the Imagination, Manufacturing, Innovation and Technology Property Tax Incentive Program. It will be considered by Toronto City Council on July 24, 2024. In the fourth quarter of 2024, a new City-wide Community Improvement Plan will be prepared. The General Manager, Economic Development and Culture, will negotiate and execute a Financial Incentivist Agreement for the application in the amount of $21.6 million. The application for a film studio complex known as Basin Media Studios in the Port Lands, an area in Ward 14 (Toronto – Danforth) was submitted by Hackman Capital Partners and CreateTO on May 24, 2023. It has an estimated construction value of $150 million.\n",
      "\n",
      "Councillor Shelley Carroll moved and the motion to adopt an item was carried. Toronto City Clerk is the official keeper of public records in the City of Toronto between 1998 and 2024. Toronto Council is the elected body that holds the power to set the laws and regulations in the city. It is composed of 22 bicameral councils, headed by the Mayor and consists of the following members:    the Mayor, the Vice-President, the Deputy Mayor and the Councilors, and the Secretary of the City, the Public Prosecutors and the Municipal Councils  the City Clerk, the Legal Affairs Officer and the City Councilors  the Law Officers and the Legal Advisors   and the Public Law Officers.\n",
      "\n"
     ]
    }
   ],
   "source": [
    "summaries = []\n",
    "for chunk in chunks:\n",
    "    summary = summarizer(chunk, max_length=200, min_length=150, do_sample=False)\n",
    "    summary = summary[0]['summary_text']\n",
    "    print(f\"{summary}\\n\")\n",
    "    summaries.append(summary)"
   ]
  },
  {
   "cell_type": "markdown",
   "metadata": {},
   "source": [
    "Combine the summaries into a single text"
   ]
  },
  {
   "cell_type": "code",
   "execution_count": 9,
   "metadata": {},
   "outputs": [],
   "source": [
    "combined_summary = \" \".join(summaries)"
   ]
  },
  {
   "cell_type": "markdown",
   "metadata": {},
   "source": [
    "Summarize the combined summary to get a final concise summary"
   ]
  },
  {
   "cell_type": "code",
   "execution_count": 10,
   "metadata": {},
   "outputs": [
    {
     "name": "stdout",
     "output_type": "stream",
     "text": [
      "On July 4, 2024, the Economic and Community Development Committee adopted an agenda item concerning the Imagination, Manufacturing, Innovation and Technology Property Tax Incentive Program. It will be considered by Toronto City Council on July 24, 2024. In the fourth quarter of 2024, a new City-wide Community Improvement Plan will be prepared. The General Manager, Economic Development and Culture, will negotiate and execute a Financial Incentivist Agreement for the application in the amount of $21.6 million. The application for a film studio complex known as Basin Media Studios in the Port Lands, an area in Ward 14 (Toronto – Danforth) was submitted by Hackman Capital Partners and CreateTO on May 24, 2023. It has an estimated construction value of $150 million.\n"
     ]
    }
   ],
   "source": [
    "final_summary = summarizer(combined_summary, max_length=200, min_length=150, do_sample=False)\n",
    "final_summary = final_summary[0]['summary_text']\n",
    "print(final_summary)"
   ]
  }
 ],
 "metadata": {
  "kernelspec": {
   "display_name": "meeting_miner_39",
   "language": "python",
   "name": "python3"
  },
  "language_info": {
   "codemirror_mode": {
    "name": "ipython",
    "version": 3
   },
   "file_extension": ".py",
   "mimetype": "text/x-python",
   "name": "python",
   "nbconvert_exporter": "python",
   "pygments_lexer": "ipython3",
   "version": "3.9.undefined"
  }
 },
 "nbformat": 4,
 "nbformat_minor": 2
}
